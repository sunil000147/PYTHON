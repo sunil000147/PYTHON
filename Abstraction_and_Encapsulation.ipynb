{
 "cells": [
  {
   "cell_type": "code",
   "execution_count": 1,
   "id": "3344b7be-6ad4-4b67-b4d5-005be7edb5ea",
   "metadata": {},
   "outputs": [],
   "source": [
    "'''Q1. What is Abstraction in OOps? Explain with an example.\n",
    "\n",
    "Ans.Abstraction in object-oriented programming (OOP) is a concept that focuses on presenting the essential features and behaviors of an object while hiding the unnecessary details''' \n",
    "\n",
    "from abc import ABC, abstractmethod\n",
    "\n",
    "class Vehicle(ABC):\n",
    "    @abstractmethod\n",
    "    def start(self):\n",
    "        pass\n",
    "\n",
    "    @abstractmethod\n",
    "    def stop(self):\n",
    "        pass\n",
    "\n",
    "class Car(Vehicle):\n",
    "    def start(self):\n",
    "        print(\"Starting the car\")\n",
    "        # Perform car-specific start operation\n",
    "\n",
    "    def stop(self):\n",
    "        print(\"Stopping the car\")\n",
    "        # Perform car-specific stop operation\n",
    "\n",
    "class Motorcycle(Vehicle):\n",
    "    def start(self):\n",
    "        print(\"Starting the motorcycle\")\n",
    "        # Perform motorcycle-specific start operation\n",
    "\n",
    "    def stop(self):\n",
    "        print(\"Stopping the motorcycle\")\n",
    "        # Perform motorcycle-specific stop operation\n"
   ]
  },
  {
   "cell_type": "markdown",
   "id": "a8ab4165-8f93-41f1-b15d-3ad2b51135d8",
   "metadata": {},
   "source": [
    "Q2. Differentiate between Abstraction and Encapsulation. Explain with an example.\n",
    "\n",
    "Abstraction:\n",
    "\n",
    "1. Abstraction focuses on hiding unnecessary details and showing only the essential features of an object.\n",
    "\n",
    "2. It allows us to create simplified models of real-world entities in our code.\n",
    "\n",
    "Example: In a car, we don't need to know how the engine works internally. We abstract the car as a high-level concept and focus on its essential behaviors like starting, stopping, and accelerating.\n",
    "\n",
    "Encapsulation:\n",
    "\n",
    "1. Encapsulation is the bundling of data and methods within a class, and controlling access to that data.\n",
    "\n",
    "2. It provides data hiding and protects the internal state of an object from direct external access.\n",
    "\n",
    "Example: A class representing a bank account may encapsulate the account balance as a private data member. It provides public methods like deposit and withdraw to access and modify the balance while enforcing any necessary validation rules."
   ]
  },
  {
   "cell_type": "markdown",
   "id": "e80e2b23-ffed-4310-ba74-bf7d4f0fad52",
   "metadata": {},
   "source": [
    "Q3. What is abc module in python? Why is it used?\n",
    "\n",
    "ans. The abc module in Python stands for \"Abstract Base Classes.\" It provides infrastructure for creating abstract base classes, which are\n",
    "\n",
    "classes that cannot be instantiated directly but serve as blueprints for other classes.\n",
    "\n",
    "The main benefits of using the abc module are:\n",
    "\n",
    "Providing a clear and consistent structure for subclasses to follow.\n",
    "\n",
    "Enforcing the implementation of specific methods in subclasses.\n",
    "\n",
    "Improving code reliability and maintainability by defining a well-defined interface.\n"
   ]
  },
  {
   "cell_type": "markdown",
   "id": "066f0599-d817-401b-b52e-f62c3d4af4c9",
   "metadata": {},
   "source": [
    "Q4. How can we achieve data abstraction?\n",
    "\n",
    "ans.\n",
    "\n",
    "Import the ABC class and abstractmethod decorator from the abc module.\n",
    "\n",
    "Create an abstract base class by inheriting from ABC.\n",
    "\n",
    "Define abstract methods within the abstract base class using the @abstractmethod decorator.\n",
    "\n",
    "Implement these abstract methods in the concrete subclasses that inherit from the abstract base class."
   ]
  },
  {
   "cell_type": "markdown",
   "id": "077a0b95-2000-4edf-912a-02adb60f4b05",
   "metadata": {},
   "source": [
    "Q5. Can we create an instance of an abstract class? Explain your answer.\n",
    "\n",
    "ans.  No, we cannot create an instance of an abstract class in Python. An abstract class is a class that cannot be instantiated directly.\n",
    "\n",
    "It serves as a blueprint or template for other classes to inherit from."
   ]
  },
  {
   "cell_type": "code",
   "execution_count": null,
   "id": "0c486e0d-f39d-46b8-9e3e-0a82b21955c2",
   "metadata": {},
   "outputs": [],
   "source": [
    "from abc import ABC, abstractmethod\n",
    "\n",
    "class AbstractClass(ABC):\n",
    "    @abstractmethod\n",
    "    def abstract_method(self):\n",
    "        pass\n",
    "\n",
    "# Attempting to create an instance of AbstractClass\n",
    "obj = AbstractClass()  # Raises TypeError\n"
   ]
  }
 ],
 "metadata": {
  "kernelspec": {
   "display_name": "Python 3 (ipykernel)",
   "language": "python",
   "name": "python3"
  },
  "language_info": {
   "codemirror_mode": {
    "name": "ipython",
    "version": 3
   },
   "file_extension": ".py",
   "mimetype": "text/x-python",
   "name": "python",
   "nbconvert_exporter": "python",
   "pygments_lexer": "ipython3",
   "version": "3.10.8"
  }
 },
 "nbformat": 4,
 "nbformat_minor": 5
}
