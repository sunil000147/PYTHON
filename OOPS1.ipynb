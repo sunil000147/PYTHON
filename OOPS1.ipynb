{
 "cells": [
  {
   "cell_type": "markdown",
   "id": "2f556be8-a2fe-4ad0-ae32-05d3047ac18f",
   "metadata": {},
   "source": [
    " Q1. Explain Class and Object with respect to Object-Oriented Programming. Give a suitable example.\n",
    " \n",
    "Ans. Class: In OOP, It is a blueprint or template which defines the structure and behavior of the objects.\n",
    "\n",
    "OBJECTS: An object is an example  of a class. It represents a specific occurrence or entity that is created based on the class definition. Objects are created from classes.\n",
    "\n"
   ]
  },
  {
   "cell_type": "code",
   "execution_count": 9,
   "id": "e46a957b-f22e-41f4-8c74-f606cfc92a63",
   "metadata": {},
   "outputs": [
    {
     "name": "stdout",
     "output_type": "stream",
     "text": [
      " Hello, my name is sunil and I am 25 years old.\n",
      " Hello, my name is Bob and I am 30 years old.\n"
     ]
    }
   ],
   "source": [
    "class Person:\n",
    "    def __init__(self, name, age):\n",
    "        self.name = name\n",
    "        self.age = age\n",
    "\n",
    "    def introduce(self):\n",
    "        print(f\" Hello, my name is {self.name} and I am {self.age} years old.\")\n",
    "# Create two person objects\n",
    "person1 = Person(\"sunil\", 25)\n",
    "person2 = Person(\"Bob\", 30)\n",
    "\n",
    "# Call the introduce method on the person objects\n",
    "person1.introduce()  \n",
    "person2.introduce()\n",
    "\n",
    "        \n"
   ]
  },
  {
   "cell_type": "markdown",
   "id": "33e61e3a-fe0e-47a7-a604-2972c34622b0",
   "metadata": {},
   "source": [
    "Q2. Name the four pillars of OOPs.\n",
    "\n",
    "ans.\n",
    "The four pillars of OOP (Object-Oriented Programming) are:\n",
    "\n",
    "Encapsulation: Bundling of data and methods into a single unit (class) and hiding internal details.\n",
    "\n",
    "Inheritance: Creating new classes based on existing classes, inheriting their attributes and methods.\n",
    "\n",
    "Polymorphism: Objects of different classes can be treated interchangeably, and methods can be overridden in derived classes.\n",
    "\n",
    "Abstraction: Simplifying complex systems by focusing on essential features and hiding unnecessary details.\n"
   ]
  },
  {
   "cell_type": "code",
   "execution_count": 11,
   "id": "43e216d9-7bb6-4bf6-8d1a-48d941f754a8",
   "metadata": {},
   "outputs": [],
   "source": [
    "'''Q3. Explain why the __init__() function is used. Give a suitable example.\n",
    "Ans. The __init__() function in Python is used to initialize the attributes of an object when it is created from a class. It is a special method that is automatically called upon object creation. The primary purpose of __init__() is to set the initial state or values of the object's attributes.'''\n",
    "\n",
    "class Person:\n",
    "    def __init__(self, name, age):\n",
    "        self.name = name\n",
    "        self.age = age\n",
    "\n",
    "person1 = Person(\"Alice\", 25)\n",
    "\n",
    "\n"
   ]
  },
  {
   "cell_type": "markdown",
   "id": "843d994b-ac85-4dec-bad1-6fd4e0d2b151",
   "metadata": {},
   "source": [
    "Q4. Why self is used in OOPs?\n",
    "\n",
    "Ans.self is used in OOPs to refer to the instance of the class itself. It allows an object to access its own attributes and methods. In short, self helps in distinguishing between the instance variables of a class and local variables."
   ]
  },
  {
   "cell_type": "code",
   "execution_count": null,
   "id": "18b38b9a-605d-4f34-bc54-c3182a7c62d6",
   "metadata": {},
   "outputs": [],
   "source": []
  }
 ],
 "metadata": {
  "kernelspec": {
   "display_name": "Python 3 (ipykernel)",
   "language": "python",
   "name": "python3"
  },
  "language_info": {
   "codemirror_mode": {
    "name": "ipython",
    "version": 3
   },
   "file_extension": ".py",
   "mimetype": "text/x-python",
   "name": "python",
   "nbconvert_exporter": "python",
   "pygments_lexer": "ipython3",
   "version": "3.10.8"
  }
 },
 "nbformat": 4,
 "nbformat_minor": 5
}
